{
 "cells": [
  {
   "cell_type": "markdown",
   "metadata": {},
   "source": [
    "En utilisant numpy:"
   ]
  },
  {
   "cell_type": "markdown",
   "metadata": {},
   "source": [
    "Ex 1 :Addition\n",
    "Écrire un programme pour lire les éléments de deux matrices et ajoutez les deux matrices dans la troisième.\n",
    "\n",
    "La somme de deux matrices de taille (m,n), $(A_{ij}) et (B_{ij}) notée $A+B$  est à nouveau une matrice (C_{ij}) de taille (m,n), obtenue en additionnant les éléments correspondants: $c_{ij}=a_{ij}+b_{ij}$\n"
   ]
  },
  {
   "cell_type": "code",
   "execution_count": 1,
   "metadata": {},
   "outputs": [
    {
     "name": "stdout",
     "output_type": "stream",
     "text": [
      "[17, 15, 4]\n",
      "[10, 12, 9]\n",
      "[11, 13, 18]\n",
      "[[17 15  4]\n",
      " [10 12  9]\n",
      " [11 13 18]]\n"
     ]
    }
   ],
   "source": [
    "#without numpy\n",
    "X = [[12,7,3],\n",
    "    [4 ,5,6],\n",
    "    [7 ,8,9]]\n",
    "\n",
    "Y = [[5,8,1],\n",
    "    [6,7,3],\n",
    "    [4,5,9]]\n",
    "\n",
    "result = [[0,0,0],\n",
    "         [0,0,0],\n",
    "         [0,0,0]]\n",
    "\n",
    "# iterate through rows\n",
    "for i in range(len(X)):\n",
    "   # iterate through columns\n",
    "    for j in range(len(X[0])):\n",
    "        result[i][j] = X[i][j] + Y[i][j]\n",
    "\n",
    "for r in result:\n",
    "    print(r)\n",
    "\n",
    "\n",
    "#with numpy \n",
    "import numpy as np\n",
    "\n",
    "nX=np.array(X)\n",
    "nY=np.array(Y)\n",
    "\n",
    "print(nX+nY)"
   ]
  },
  {
   "cell_type": "markdown",
   "metadata": {},
   "source": [
    "Ex2 :Multiplication\n",
    "Écrire un programme pour lire les éléments de deux matrices, puis multipliez les deux matrices dans la troisième.\n",
    "\n",
    "Deux matrices ne peuvent être multipliées que si le nombre de colonnes de la première matrice est le même que le nombre de lignes de la seconde matrice.\n",
    "\n",
    "Si $ A=(a_{ij})$ est une matrice de taille (m,n), $ B=(b_{ij})$ et est une matrice de taille (n,p), alors leur produit, noté $AB=(c_{ij})$ est une matrice de taille (m,p) définie par :\n",
    "$$\\forall i,j : c_{ij}=\\sum_{k=i}^{n} a_{ik}*b_{kj}$$"
   ]
  },
  {
   "cell_type": "markdown",
   "metadata": {},
   "source": [
    "check website https://www.journaldev.com/32966/numpy-matrix-multiplication"
   ]
  },
  {
   "cell_type": "code",
   "execution_count": 4,
   "metadata": {},
   "outputs": [
    {
     "name": "stdout",
     "output_type": "stream",
     "text": [
      "Matrix Product of A and B is:\n",
      "[[19 22]\n",
      " [43 50]]\n",
      "Matrix Product of B and A is:\n",
      "[[23 34]\n",
      " [31 46]]\n",
      "[[ 5 12]\n",
      " [21 32]]\n",
      "[[ 5 12]\n",
      " [21 32]]\n"
     ]
    }
   ],
   "source": [
    "import numpy as np\n",
    "\n",
    "A = np.array([[1, 2],\n",
    "                 [3, 4]])\n",
    "B = np.array([[5, 6],\n",
    "                 [7, 8]])\n",
    "\n",
    "#matrix product\n",
    "\n",
    "arr_result = np.matmul(A, B)\n",
    "\n",
    "print(f'Matrix Product of A and B is A*B:\\n{arr_result}')\n",
    "\n",
    "arr_result = np.matmul(B, A)\n",
    "\n",
    "print(f'Matrix Product of B and A is B*A:\\n{arr_result}')\n",
    "\n",
    "#meme chose\n",
    "arr_result = np.dot(A, B)\n",
    "\n",
    "print(f'Dot Product of A and B is:\\n{arr_result}')\n",
    "\n",
    "arr_result = np.dot(B, A)\n",
    "\n",
    "print(f'Dot Product of B and A is:\\n{arr_result}')\n",
    "\n",
    "#be careful of this: does not give matrix maltiplication check website above\n",
    "# multiply Element Wise \n",
    "arr_result = np.multiply(A, B)\n",
    "\n",
    "print(arr_result)\n",
    "#meme chose\n",
    "arr_result=A*B\n",
    "\n",
    "print(arr_result)\n",
    "\n"
   ]
  },
  {
   "cell_type": "markdown",
   "metadata": {},
   "source": [
    "Ex 3: Matrice de Markov\n",
    "\n",
    "Une matrice de Markov est une matrice carrée dont chaque élément est un réel compris entre 0 et 1 et dont la somme des éléments de chaque ligne vaut 1. Cela correspond, en probabilité, à la matrice de transition d'une chaîne de Markov finie.\n",
    "\n",
    "Une matrice est dite bistochastique (ou doublement stochastique) si la somme des éléments de chaque ligne et de chaque colonne vaut 1.\n",
    "\n",
    "1. Ecrire une fonction eststochastique(P) qui permet de vérifier est ce que la matrice P est stochastique ou non\n",
    "2. Ecrire une fonction estbistochastique(P) qui permet de vérifier est ce que la matrice P est bistochastique ou non\n",
    "3. Ecrire une fonction vecteurstable(G, h) qui permet de vérifier est ce que h est un vecteur stable de G ou non\n",
    "\n"
   ]
  },
  {
   "cell_type": "code",
   "execution_count": null,
   "metadata": {},
   "outputs": [],
   "source": [
    "check https://en.wikipedia.org/wiki/Stochastic_matrix"
   ]
  },
  {
   "cell_type": "code",
   "execution_count": 14,
   "metadata": {},
   "outputs": [
    {
     "name": "stdout",
     "output_type": "stream",
     "text": [
      "left stochastic matrix\n",
      "right stochastic matrix\n",
      "True\n"
     ]
    },
    {
     "data": {
      "text/plain": [
       "True"
      ]
     },
     "execution_count": 14,
     "metadata": {},
     "output_type": "execute_result"
    }
   ],
   "source": [
    "P=np.array([[0.3,0.7],[0.7,0.3]])\n",
    "\n",
    "def eststochastique(P):\n",
    "    etat_nonnegative=(P>0).all()\n",
    "    if not etat_nonnegative:\n",
    "        print(\"there are zeros or negative numbers in matrix\")\n",
    "        return False\n",
    "    #find if sum of columns is 1\n",
    "    sommecolonne=np.sum(P,axis=1)\n",
    "    #print(sommecolonne)\n",
    "    etat_colonne=(sommecolonne == 1).all()\n",
    "    if etat_colonne:\n",
    "        print(\"left stochastic matrix\")\n",
    "    #find if sum of rows is 1\n",
    "    sommeligne=np.sum(P,axis=0)\n",
    "    #print(sommeligne)\n",
    "    etat_ligne=(sommeligne == 1).all() \n",
    "    if etat_ligne:\n",
    "        print(\"right stochastic matrix\")\n",
    "    print(etat_ligne)\n",
    "    #if sum of column or row is 1 then it is stochastic matrix\n",
    "    etat=etat_ligne or etat_colonne\n",
    "    \n",
    "    return etat\n",
    "\n",
    "eststochastique(P)"
   ]
  },
  {
   "cell_type": "code",
   "execution_count": 15,
   "metadata": {},
   "outputs": [
    {
     "name": "stdout",
     "output_type": "stream",
     "text": [
      "left stochastic matrix\n",
      "right stochastic matrix\n",
      "True\n",
      "This matrix is bistochastique\n"
     ]
    },
    {
     "data": {
      "text/plain": [
       "True"
      ]
     },
     "execution_count": 15,
     "metadata": {},
     "output_type": "execute_result"
    }
   ],
   "source": [
    "def estbistochastique(P):\n",
    "    etat_nonnegative=(P>0).all()\n",
    "    if not etat_nonnegative:\n",
    "        print(\"there are zeros or negative numbers in matrix\")\n",
    "        return False\n",
    "    #find if sum of columns is 1\n",
    "    sommecolonne=np.sum(P,axis=1)\n",
    "    #print(sommecolonne)\n",
    "    etat_colonne=(sommecolonne == 1).all()\n",
    "    if etat_colonne:\n",
    "        print(\"left stochastic matrix\")\n",
    "    #find if sum of rows is 1\n",
    "    sommeligne=np.sum(P,axis=0)\n",
    "    #print(sommeligne)\n",
    "    etat_ligne=(sommeligne == 1).all() \n",
    "    if etat_ligne:\n",
    "        print(\"right stochastic matrix\")\n",
    "    print(etat_ligne)\n",
    "    #if sum of column or row is 1 then it is stochastic matrix\n",
    "    etat=etat_ligne and etat_colonne\n",
    "    if etat:\n",
    "        print(\"This matrix is bistochastique\")\n",
    "    return etat\n",
    "\n",
    "estbistochastique(P)"
   ]
  },
  {
   "cell_type": "markdown",
   "metadata": {},
   "source": [
    "h stable de G --> h*G=h--> h*G-h=0"
   ]
  },
  {
   "cell_type": "code",
   "execution_count": 25,
   "metadata": {},
   "outputs": [
    {
     "name": "stdout",
     "output_type": "stream",
     "text": [
      "h is stable vector of G\n"
     ]
    },
    {
     "data": {
      "text/plain": [
       "True"
      ]
     },
     "execution_count": 25,
     "metadata": {},
     "output_type": "execute_result"
    }
   ],
   "source": [
    "G=np.array([[1/4,3/4],[1/8,7/8]])\n",
    "h=np.array([1/7,6/7])\n",
    "\n",
    "def vecteurstable(G, h):\n",
    "    mat=np.matmul(h, G)-h\n",
    "    vectstable=(mat==0).all()\n",
    "    if vectstable:\n",
    "        print(\"h is stable vector of G\")\n",
    "    return vectstable\n",
    "\n",
    "vecteurstable(G, h)"
   ]
  },
  {
   "cell_type": "markdown",
   "metadata": {},
   "source": [
    "Ex 4: Transposer\n",
    "\n",
    "Programmer une fonction qui, étant donné une matrice à deux dimensions A, retourne lamatrice B dont la première colonne est la première ligne de A, la seconde la deuxième ligne de A, etc. B s’appelle la transposée de A."
   ]
  },
  {
   "cell_type": "code",
   "execution_count": null,
   "metadata": {},
   "outputs": [],
   "source": [
    "B=np.transpose(A)"
   ]
  },
  {
   "cell_type": "markdown",
   "metadata": {},
   "source": [
    "Ex 5: Permutations\n",
    "1. $M$ désignant une matrice quelconque d’entiers à $l_i$ lignes et $co$ colonnes, $n$ un entier quelconque, programmer une fonction qui retourne la matrice $Sortie$ qui empile verticalement les $co+1$ matrices obtenues en adjoignant à $M$ une colonne $A$ à $li$ lignes dont tousles éléments sont égaux à $n$, $A$ étant placée d’abord devant $M$, puis entre la première et deuxième colonne de $M^a$,etc, jusqu’à ce que $A$ devienne sa dernière colonne. La matriceobtenue  aura $co+1$ colonnes et $(n+1)$ $li$ lignes\n",
    "\n",
    "2. Écrire toutes les permutations de(1, ..., n)"
   ]
  },
  {
   "cell_type": "code",
   "execution_count": 43,
   "metadata": {},
   "outputs": [
    {
     "name": "stdout",
     "output_type": "stream",
     "text": [
      "[[3. 0. 1.]\n",
      " [3. 5. 6.]\n",
      " [0. 3. 1.]\n",
      " [5. 3. 6.]\n",
      " [0. 1. 3.]\n",
      " [5. 6. 3.]]\n"
     ]
    }
   ],
   "source": [
    "\n",
    "def permutation(M,n):\n",
    "    l,c=M.shape\n",
    "    A=np.zeros((l,1))+n\n",
    "    Ma = np.hstack((M[:,:0], A, M[:,0:]))\n",
    "    sortie=Ma\n",
    "    for i in range(1,c+1):\n",
    "        Ma = np.hstack((M[:,:i], A, M[:,i:]))\n",
    "        sortie=np.vstack((sortie,Ma))\n",
    "    print(sortie)\n",
    "\n",
    "M=np.array([[0,1],[5,6]])\n",
    "n=3\n",
    "\n",
    "permutation(M,n)"
   ]
  },
  {
   "cell_type": "code",
   "execution_count": null,
   "metadata": {},
   "outputs": [],
   "source": []
  }
 ],
 "metadata": {
  "kernelspec": {
   "display_name": "Python 3",
   "language": "python",
   "name": "python3"
  },
  "language_info": {
   "codemirror_mode": {
    "name": "ipython",
    "version": 3
   },
   "file_extension": ".py",
   "mimetype": "text/x-python",
   "name": "python",
   "nbconvert_exporter": "python",
   "pygments_lexer": "ipython3",
   "version": "3.6.9"
  }
 },
 "nbformat": 4,
 "nbformat_minor": 4
}
